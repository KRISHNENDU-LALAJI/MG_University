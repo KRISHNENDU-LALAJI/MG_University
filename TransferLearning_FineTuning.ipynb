{
  "nbformat": 4,
  "nbformat_minor": 0,
  "metadata": {
    "colab": {
      "provenance": [],
      "mount_file_id": "https://github.com/KRISHNENDU-LALAJI/MG_University/blob/Transfer-Learning/TransferLearning_FineTuning.ipynb",
      "authorship_tag": "ABX9TyOLBkq4FjBEry93S8XHljX2",
      "include_colab_link": true
    },
    "kernelspec": {
      "name": "python3",
      "display_name": "Python 3"
    },
    "language_info": {
      "name": "python"
    }
  },
  "cells": [
    {
      "cell_type": "markdown",
      "metadata": {
        "id": "view-in-github",
        "colab_type": "text"
      },
      "source": [
        "<a href=\"https://colab.research.google.com/github/KRISHNENDU-LALAJI/MG_University/blob/Transfer-Learning/TransferLearning_FineTuning.ipynb\" target=\"_parent\"><img src=\"https://colab.research.google.com/assets/colab-badge.svg\" alt=\"Open In Colab\"/></a>"
      ]
    },
    {
      "cell_type": "markdown",
      "source": [
        "# ***HANDS-ON WORKSHOP ON***\n",
        "# **DEEP LEARNING FOR COMPUTER VISION**"
      ],
      "metadata": {
        "id": "z4L5KI6MKCzP"
      }
    },
    {
      "cell_type": "markdown",
      "source": [
        "# **Transfer Learning and Fine Tuning**"
      ],
      "metadata": {
        "id": "Tpht9_Cmq7j3"
      }
    },
    {
      "cell_type": "markdown",
      "source": [
        "In machine learning and deep learning, transfer learning and fine-tuning are two popular ways to reuse pre-trained models. They both let you take advantage of models that have already learned useful features from large datasets. Think of them as shortcuts that help your models get smarter faster by building on what’s already been learned."
      ],
      "metadata": {
        "id": "f4Sp6McXrGgH"
      }
    },
    {
      "cell_type": "markdown",
      "source": [
        "# **Transfer Learning**"
      ],
      "metadata": {
        "id": "_jjYHTXynVj3"
      }
    },
    {
      "cell_type": "markdown",
      "source": [
        "Transfer learning is a technique where a model trained on one task is reused on a different but related task.\n",
        "It helps save time and improve performance, especially when you have limited data for the new task."
      ],
      "metadata": {
        "id": "9mHRSpBenjMv"
      }
    },
    {
      "cell_type": "markdown",
      "source": [
        "**Why Transfer Learning?**\n",
        "\n",
        "\n",
        "*  *Reduces Training Time*\n",
        "– You start with a pre-trained model, so you don’t need to train from scratch.\n",
        "*  *Works Well with Limited Data*\n",
        "– Pre-trained models have already learned useful features, so they perform well even with small datasets.\n",
        "*  *Improves Model Performance*\n",
        "– Transfer learning often leads to better accuracy and generalization, especially on complex tasks.\n",
        "*   *Leverages Powerful Models*\n",
        "– You get access to models trained on massive datasets (like ImageNet or BERT), which are otherwise resource-intensive to train.\n",
        "*   *Prevents Overfitting*\n",
        "– Using pre-trained weights helps stabilize training and reduces the risk of overfitting on small datasets.\n",
        "*   *Easy to Implement*\n",
        "– Many libraries (e.g., TensorFlow, PyTorch) offer built-in support for transfer learning with just a few lines of code.\n"
      ],
      "metadata": {
        "id": "01SDYTlezqP3"
      }
    },
    {
      "cell_type": "markdown",
      "source": [
        "**Types of Transfer Learning**\n",
        "\n",
        "\n",
        "1.   Inductive Transfer Learning -  Adapt an existing supervised training model on a new labeled dataset.\n",
        "\n",
        "    Used For: Classification, Regression\n",
        "\n",
        "    Example: A model trained to classify animals is adapted to classify fruits using labeled fruit images.\n",
        "2.   Transductive Transfer Learning - Description: Adapt an existing supervised training model on a new unlabeled dataset.\n",
        "\n",
        "    Used For: Classification, Regression\n",
        "\n",
        "    Example: A model trained on U.S. handwritten digits is reused to classify Indian handwritten digits, without any labels in the new dataset.\n",
        "3. Unsupervised Transfer Learning - Description: Adapt an existing unsupervised training model on a new unlabeled dataset.\n",
        "\n",
        "    Used For: Clustering, Dimensionality Reduction\n",
        "\n",
        "    Example: A clustering model trained on clothing images is used to group unlabeled shoe images based on visual similarity.\n"
      ],
      "metadata": {
        "id": "yQ9vZYvo2g-I"
      }
    },
    {
      "cell_type": "markdown",
      "source": [
        "**Steps in Transfer Learning**\n",
        "\n",
        "\n",
        "1.   *Select a Pre-trained Model* -\n",
        "Choose a model that’s already trained on a large dataset (e.g., ResNet, VGG, BERT).\n",
        "\n",
        "2.   *Load the Pre-trained Model* -\n",
        "Load the model with pre-trained weights (usually with include_top=False if you want to modify the head).\n",
        "\n",
        "3. *Freeze the Base Layers* -\n",
        "Prevent the original layers from being updated during training, so their learned features remain intact.\n",
        "\n",
        "4. *Add Custom Layers (Classifier Head)* -\n",
        "Add new layers on top of the base model tailored to your new task (e.g., Dense layers for classification).\n",
        "\n",
        "5. *Train the New Layers* -\n",
        "Train only the newly added layers using your dataset (with a moderate learning rate).\n",
        "\n",
        "6. *Evaluate and Save the Model* -\n",
        "Test the model on validation/test data and save it for deployment or future use.\n"
      ],
      "metadata": {
        "id": "GrDjLDLE5wwt"
      }
    },
    {
      "cell_type": "markdown",
      "source": [
        "# **Example**"
      ],
      "metadata": {
        "id": "zRfbfcFB7Je0"
      }
    },
    {
      "cell_type": "code",
      "source": [
        "import matplotlib.pyplot as plt\n",
        "import numpy as np\n",
        "import os\n",
        "import tensorflow as tf"
      ],
      "metadata": {
        "id": "6SmSLCiU7Zie"
      },
      "execution_count": null,
      "outputs": []
    },
    {
      "cell_type": "markdown",
      "source": [
        "# **Data preprocessing**"
      ],
      "metadata": {
        "id": "8nF3DtZj7kf-"
      }
    },
    {
      "cell_type": "markdown",
      "source": [
        "# **Data download**\n",
        "In this tutorial, you will use a dataset containing several thousand images of cats and dogs. Download and extract a zip file containing the images, then create a tf.data.Dataset for training and validation using the tf.keras.utils.image_dataset_from_directory utility. You can learn more about loading images in this tutorial."
      ],
      "metadata": {
        "id": "akaNeqFC7r3N"
      }
    },
    {
      "cell_type": "code",
      "source": [
        "_URL = 'https://storage.googleapis.com/mledu-datasets/cats_and_dogs_filtered.zip'\n",
        "path_to_zip = tf.keras.utils.get_file('cats_and_dogs.zip', origin=_URL, extract=True)\n",
        "PATH = os.path.join(os.path.dirname(path_to_zip), 'cats_and_dogs_extracted/cats_and_dogs_filtered')\n",
        "\n",
        "train_dir = os.path.join(PATH, 'train')\n",
        "validation_dir = os.path.join(PATH, 'validation')\n",
        "\n",
        "print(\"Train path:\", train_dir)\n",
        "print(\"Validation path:\", validation_dir)\n",
        "\n",
        "BATCH_SIZE = 32\n",
        "IMG_SIZE = (160, 160)"
      ],
      "metadata": {
        "id": "soAQutOQQYN_"
      },
      "execution_count": null,
      "outputs": []
    },
    {
      "cell_type": "code",
      "source": [
        "#Load the training dataset\n",
        "train_dataset = tf.keras.utils.image_dataset_from_directory(train_dir,\n",
        "                                                            shuffle=True,\n",
        "                                                            batch_size=BATCH_SIZE,\n",
        "                                                            image_size=IMG_SIZE)"
      ],
      "metadata": {
        "id": "aq5DA6hlAcAD"
      },
      "execution_count": null,
      "outputs": []
    },
    {
      "cell_type": "code",
      "source": [
        "validation_dataset = tf.keras.utils.image_dataset_from_directory(validation_dir,\n",
        "                                                                 shuffle=True,\n",
        "                                                                 batch_size=BATCH_SIZE,\n",
        "                                                                 image_size=IMG_SIZE)"
      ],
      "metadata": {
        "id": "muL6vmHKAzHX"
      },
      "execution_count": null,
      "outputs": []
    },
    {
      "cell_type": "markdown",
      "source": [
        "Show the first nine images and labels from the training set:\n",
        "\n"
      ],
      "metadata": {
        "id": "6qI9ViFCBHYv"
      }
    },
    {
      "cell_type": "code",
      "source": [
        "class_names = train_dataset.class_names\n",
        "\n",
        "plt.figure(figsize=(10, 10))\n",
        "for images, labels in train_dataset.take(1):\n",
        "  for i in range(9):\n",
        "    ax = plt.subplot(3, 3, i + 1)\n",
        "    plt.imshow(images[i].numpy().astype(\"uint8\"))\n",
        "    plt.title(class_names[labels[i]])\n",
        "    plt.axis(\"off\")"
      ],
      "metadata": {
        "id": "Mdl7R4YqA2ZY"
      },
      "execution_count": null,
      "outputs": []
    },
    {
      "cell_type": "markdown",
      "source": [
        "As the original dataset doesn't contain a test set, you will create one. To do so, determine how many batches of data are available in the validation set using tf.data.experimental.cardinality, then move 20% of them to a test set."
      ],
      "metadata": {
        "id": "LxWCtMjpBXdl"
      }
    },
    {
      "cell_type": "code",
      "source": [
        "val_batches = tf.data.experimental.cardinality(validation_dataset)\n",
        "test_dataset = validation_dataset.take(val_batches // 5)\n",
        "validation_dataset = validation_dataset.skip(val_batches // 5)"
      ],
      "metadata": {
        "id": "Do1tz47aBTYh"
      },
      "execution_count": null,
      "outputs": []
    },
    {
      "cell_type": "code",
      "source": [
        "print('Number of validation batches: %d' % tf.data.experimental.cardinality(validation_dataset))\n",
        "print('Number of test batches: %d' % tf.data.experimental.cardinality(test_dataset))"
      ],
      "metadata": {
        "id": "MyQ8FLvyBd7j"
      },
      "execution_count": null,
      "outputs": []
    },
    {
      "cell_type": "markdown",
      "source": [
        "**Configure the dataset for performance**\n",
        "\n",
        "Use buffered prefetching to load images from disk without having I/O become blocking."
      ],
      "metadata": {
        "id": "hkc6zJYtBlOX"
      }
    },
    {
      "cell_type": "code",
      "source": [
        "AUTOTUNE = tf.data.AUTOTUNE\n",
        "\n",
        "train_dataset = train_dataset.prefetch(buffer_size=AUTOTUNE)\n",
        "validation_dataset = validation_dataset.prefetch(buffer_size=AUTOTUNE)\n",
        "test_dataset = test_dataset.prefetch(buffer_size=AUTOTUNE)"
      ],
      "metadata": {
        "id": "H-tL5GV_Bf8E"
      },
      "execution_count": null,
      "outputs": []
    },
    {
      "cell_type": "markdown",
      "source": [
        "**Use data augmentation**\n",
        "\n",
        "When you don't have a large image dataset, it's a good practice to artificially introduce sample diversity by applying random, yet realistic, transformations to the training images, such as rotation and horizontal flipping. This helps expose the model to different aspects of the training data and reduce overfitting."
      ],
      "metadata": {
        "id": "zyu06yhAB5WN"
      }
    },
    {
      "cell_type": "code",
      "source": [
        "data_augmentation = tf.keras.Sequential([\n",
        "  tf.keras.layers.RandomFlip('horizontal'),\n",
        "  tf.keras.layers.RandomRotation(0.2),\n",
        "])"
      ],
      "metadata": {
        "id": "tUkVj41cBy-a"
      },
      "execution_count": null,
      "outputs": []
    },
    {
      "cell_type": "markdown",
      "source": [
        "Note: These layers are active only during training, when you call Model.fit. They are inactive when the model is used in inference mode in Model.evaluate, Model.predict, or Model.call."
      ],
      "metadata": {
        "id": "Ht-k1kcpCHYo"
      }
    },
    {
      "cell_type": "markdown",
      "source": [
        "Let's repeatedly apply these layers to the same image and see the result."
      ],
      "metadata": {
        "id": "HvdUnd11DP3j"
      }
    },
    {
      "cell_type": "code",
      "source": [
        "for image, _ in train_dataset.take(1):\n",
        "  plt.figure(figsize=(10, 10))\n",
        "  first_image = image[0]\n",
        "  for i in range(9):\n",
        "    ax = plt.subplot(3, 3, i + 1)\n",
        "    augmented_image = data_augmentation(tf.expand_dims(first_image, 0))\n",
        "    plt.imshow(augmented_image[0] / 255)\n",
        "    plt.axis('off')"
      ],
      "metadata": {
        "id": "FHmA4jqaCJCa"
      },
      "execution_count": null,
      "outputs": []
    },
    {
      "cell_type": "markdown",
      "source": [
        "# **Rescale pixel values**\n",
        "In a moment, you will download tf.keras.applications.MobileNetV2 for use as your base model. This model expects pixel values in [-1, 1], but at this point, the pixel values in your images are in [0, 255]. To rescale them, use the preprocessing method included with the model."
      ],
      "metadata": {
        "id": "mWWqfl0RDboD"
      }
    },
    {
      "cell_type": "code",
      "source": [
        "preprocess_input = tf.keras.applications.mobilenet_v2.preprocess_input"
      ],
      "metadata": {
        "id": "aYqwZ2kuDe1q"
      },
      "execution_count": null,
      "outputs": []
    },
    {
      "cell_type": "code",
      "source": [
        "#rescale = tf.keras.layers.Rescaling(1./127.5, offset=-1)"
      ],
      "metadata": {
        "id": "nAS22ePuDhvE"
      },
      "execution_count": null,
      "outputs": []
    },
    {
      "cell_type": "markdown",
      "source": [
        "# **Create the base model from the pre-trained convnets**\n",
        "You will create the base model from the MobileNet V2 model developed at Google. This is pre-trained on the ImageNet dataset, a large dataset consisting of 1.4M images and 1000 classes. ImageNet is a research training dataset with a wide variety of categories like jackfruit and syringe. This base of knowledge will help us classify cats and dogs from our specific dataset.\n",
        "\n",
        "First, you need to pick which layer of MobileNet V2 you will use for feature extraction. The very last classification layer (on \"top\", as most diagrams of machine learning models go from bottom to top) is not very useful. Instead, you will follow the common practice to depend on the very last layer before the flatten operation. This layer is called the \"bottleneck layer\". The bottleneck layer features retain more generality as compared to the final/top layer.\n",
        "\n",
        "First, instantiate a MobileNet V2 model pre-loaded with weights trained on ImageNet. By specifying the include_top=False argument, you load a network that doesn't include the classification layers at the top, which is ideal for feature extraction."
      ],
      "metadata": {
        "id": "IV9z2EA8D7Iv"
      }
    },
    {
      "cell_type": "code",
      "source": [
        "# Create the base model from the pre-trained model MobileNet V2\n",
        "IMG_SHAPE = IMG_SIZE + (3,)\n",
        "base_model = tf.keras.applications.MobileNetV2(input_shape=IMG_SHAPE,\n",
        "                                               include_top=False,\n",
        "                                               weights='imagenet')"
      ],
      "metadata": {
        "id": "DMJ6yELLDpYP"
      },
      "execution_count": null,
      "outputs": []
    },
    {
      "cell_type": "markdown",
      "source": [
        "This feature extractor converts each 160x160x3 image into a 5x5x1280 block of features. Let's see what it does to an example batch of images:"
      ],
      "metadata": {
        "id": "TnXIblKREtCf"
      }
    },
    {
      "cell_type": "code",
      "source": [
        "image_batch, label_batch = next(iter(train_dataset))\n",
        "feature_batch = base_model(image_batch)\n",
        "print(feature_batch.shape)"
      ],
      "metadata": {
        "id": "K7eA_T89EFx5"
      },
      "execution_count": null,
      "outputs": []
    },
    {
      "cell_type": "markdown",
      "source": [
        "# **Feature extraction**\n",
        "In this step, you will freeze the convolutional base created from the previous step and to use as a feature extractor. Additionally, you add a classifier on top of it and train the top-level classifier.\n",
        "\n",
        "# Freeze the convolutional base\n",
        "It is important to freeze the convolutional base before you compile and train the model. Freezing (by setting layer.trainable = False) prevents the weights in a given layer from being updated during training. MobileNet V2 has many layers, so setting the entire model's trainable flag to False will freeze all of them."
      ],
      "metadata": {
        "id": "M1wLU3-2E0ip"
      }
    },
    {
      "cell_type": "code",
      "source": [
        "base_model.trainable = False"
      ],
      "metadata": {
        "id": "_3bCqkv2EwWF"
      },
      "execution_count": null,
      "outputs": []
    },
    {
      "cell_type": "markdown",
      "source": [
        "# Important note about BatchNormalization layers\n",
        "Many models contain tf.keras.layers.BatchNormalization layers. This layer is a special case and precautions should be taken in the context of fine-tuning, as shown later in this tutorial.\n",
        "\n",
        "When you set layer.trainable = False, the BatchNormalization layer will run in inference mode, and will not update its mean and variance statistics.\n",
        "\n",
        "When you unfreeze a model that contains BatchNormalization layers in order to do fine-tuning, you should keep the BatchNormalization layers in inference mode by passing training = False when calling the base model. Otherwise, the updates applied to the non-trainable weights will destroy what the model has learned."
      ],
      "metadata": {
        "id": "nFiEPtxCFKPE"
      }
    },
    {
      "cell_type": "code",
      "source": [
        "# Let's take a look at the base model architecture\n",
        "base_model.summary()"
      ],
      "metadata": {
        "id": "vtXMEIB2FGbD"
      },
      "execution_count": null,
      "outputs": []
    },
    {
      "cell_type": "markdown",
      "source": [
        "# Add a classification head\n",
        "To generate predictions from the block of features, average over the spatial 5x5 spatial locations, using a tf.keras.layers.GlobalAveragePooling2D layer to convert the features to a single 1280-element vector per image."
      ],
      "metadata": {
        "id": "h4C8TLoOFbJi"
      }
    },
    {
      "cell_type": "code",
      "source": [
        "global_average_layer = tf.keras.layers.GlobalAveragePooling2D()\n",
        "feature_batch_average = global_average_layer(feature_batch)\n",
        "print(feature_batch_average.shape)"
      ],
      "metadata": {
        "id": "yuN4JC2SFawz"
      },
      "execution_count": null,
      "outputs": []
    },
    {
      "cell_type": "markdown",
      "source": [
        "Apply a tf.keras.layers.Dense layer to convert these features into a single prediction per image. You don't need an activation function here because this prediction will be treated as a logit, or a raw prediction value. Positive numbers predict class 1, negative numbers predict class 0."
      ],
      "metadata": {
        "id": "KkKYFwk4FnJw"
      }
    },
    {
      "cell_type": "code",
      "source": [
        "prediction_layer = tf.keras.layers.Dense(1, activation='sigmoid')\n",
        "prediction_batch = prediction_layer(feature_batch_average)\n",
        "print(prediction_batch.shape)"
      ],
      "metadata": {
        "id": "0TqzlaqnFR6K"
      },
      "execution_count": null,
      "outputs": []
    },
    {
      "cell_type": "markdown",
      "source": [
        "Build a model by chaining together the data augmentation, rescaling, base_model and feature extractor layers using the Keras Functional API. As previously mentioned, use training=False as our model contains a BatchNormalization layer."
      ],
      "metadata": {
        "id": "-5DwyXbxFvC8"
      }
    },
    {
      "cell_type": "code",
      "source": [
        "inputs = tf.keras.Input(shape=(160, 160, 3))\n",
        "x = data_augmentation(inputs)\n",
        "x = preprocess_input(x)\n",
        "x = base_model(x, training=False)\n",
        "x = global_average_layer(x)\n",
        "x = tf.keras.layers.Dropout(0.2)(x)\n",
        "outputs = prediction_layer(x)\n",
        "model = tf.keras.Model(inputs, outputs)"
      ],
      "metadata": {
        "id": "xfPn5R-zFqjo"
      },
      "execution_count": null,
      "outputs": []
    },
    {
      "cell_type": "code",
      "source": [
        "model.summary()"
      ],
      "metadata": {
        "id": "OheMhx2IFzUR"
      },
      "execution_count": null,
      "outputs": []
    },
    {
      "cell_type": "markdown",
      "source": [
        "The 8+ million parameters in MobileNet are frozen, but there are 1.2 thousand trainable parameters in the Dense layer. These are divided between two tf.Variable objects, the weights and biases."
      ],
      "metadata": {
        "id": "I_DMlKdwF86q"
      }
    },
    {
      "cell_type": "code",
      "source": [
        "len(model.trainable_variables)"
      ],
      "metadata": {
        "id": "bZesphs_F1pg"
      },
      "execution_count": null,
      "outputs": []
    },
    {
      "cell_type": "code",
      "source": [
        "tf.keras.utils.plot_model(model, show_shapes=True)"
      ],
      "metadata": {
        "id": "702PovRJF_ti"
      },
      "execution_count": null,
      "outputs": []
    },
    {
      "cell_type": "markdown",
      "source": [
        "# Compile the model\n",
        "Compile the model before training it. Since there are two classes and a sigmoid oputput, use the BinaryAccuracy"
      ],
      "metadata": {
        "id": "079_o9b-GIp7"
      }
    },
    {
      "cell_type": "code",
      "source": [
        "base_learning_rate = 0.0001\n",
        "model.compile(optimizer=tf.keras.optimizers.Adam(learning_rate=base_learning_rate),\n",
        "              loss=tf.keras.losses.BinaryCrossentropy(),\n",
        "              metrics=[tf.keras.metrics.BinaryAccuracy(threshold=0.5, name='accuracy')])"
      ],
      "metadata": {
        "id": "QoYUAdqaGCoc"
      },
      "execution_count": null,
      "outputs": []
    },
    {
      "cell_type": "markdown",
      "source": [
        "# Train the model\n"
      ],
      "metadata": {
        "id": "SIE8qvm3GPkh"
      }
    },
    {
      "cell_type": "code",
      "source": [
        "initial_epochs = 10\n",
        "\n",
        "loss0, accuracy0 = model.evaluate(validation_dataset)"
      ],
      "metadata": {
        "id": "44CKTbqTGO9d"
      },
      "execution_count": null,
      "outputs": []
    },
    {
      "cell_type": "code",
      "source": [
        "print(\"initial loss: {:.2f}\".format(loss0))\n",
        "print(\"initial accuracy: {:.2f}\".format(accuracy0))"
      ],
      "metadata": {
        "id": "s21p2DLSGXbE"
      },
      "execution_count": null,
      "outputs": []
    },
    {
      "cell_type": "code",
      "source": [
        "history = model.fit(train_dataset,\n",
        "                    epochs=initial_epochs,\n",
        "                    validation_data=validation_dataset)"
      ],
      "metadata": {
        "id": "AT8yOxq_GjCm"
      },
      "execution_count": null,
      "outputs": []
    },
    {
      "cell_type": "markdown",
      "source": [
        "# Learning curves\n",
        "Let's take a look at the learning curves of the training and validation accuracy/loss when using the MobileNetV2 base model as a fixed feature extractor."
      ],
      "metadata": {
        "id": "TzrT4tI0GtEq"
      }
    },
    {
      "cell_type": "code",
      "source": [
        "acc = history.history['accuracy']\n",
        "val_acc = history.history['val_accuracy']\n",
        "\n",
        "loss = history.history['loss']\n",
        "val_loss = history.history['val_loss']\n",
        "\n",
        "plt.figure(figsize=(8, 8))\n",
        "plt.subplot(2, 1, 1)\n",
        "plt.plot(acc, label='Training Accuracy')\n",
        "plt.plot(val_acc, label='Validation Accuracy')\n",
        "plt.legend(loc='lower right')\n",
        "plt.ylabel('Accuracy')\n",
        "plt.ylim([min(plt.ylim()),1])\n",
        "plt.title('Training and Validation Accuracy')\n",
        "\n",
        "plt.subplot(2, 1, 2)\n",
        "plt.plot(loss, label='Training Loss')\n",
        "plt.plot(val_loss, label='Validation Loss')\n",
        "plt.legend(loc='upper right')\n",
        "plt.ylabel('Cross Entropy')\n",
        "plt.ylim([0,1.0])\n",
        "plt.title('Training and Validation Loss')\n",
        "plt.xlabel('epoch')\n",
        "plt.show()"
      ],
      "metadata": {
        "id": "LZ3PQRG3Gmeo"
      },
      "execution_count": null,
      "outputs": []
    },
    {
      "cell_type": "markdown",
      "source": [
        "# **Fine Tuning**"
      ],
      "metadata": {
        "id": "JSD1ZMzuGz5S"
      }
    },
    {
      "cell_type": "markdown",
      "source": [
        "The weights of the pre-trained network were not updated during training.\n",
        "\n",
        "One way to increase performance even further is to train (or \"fine-tune\") the weights of the top layers of the pre-trained model alongside the training of the classifier you added. The training process will force the weights to be tuned from generic feature maps to features associated specifically with the dataset."
      ],
      "metadata": {
        "id": "tZYAJ2hJJB8A"
      }
    },
    {
      "cell_type": "markdown",
      "source": [
        "Note: This should only be attempted after you have trained the top-level classifier with the pre-trained model set to non-trainable. If you add a randomly initialized classifier on top of a pre-trained model and attempt to train all layers jointly, the magnitude of the gradient updates will be too large (due to the random weights from the classifier) and your pre-trained model will forget what it has learned."
      ],
      "metadata": {
        "id": "3_zMPt5QJEp2"
      }
    },
    {
      "cell_type": "markdown",
      "source": [
        "Also, you should try to fine-tune a small number of top layers rather than the whole MobileNet model. In most convolutional networks, the higher up a layer is, the more specialized it is. The first few layers learn very simple and generic features that generalize to almost all types of images. As you go higher up, the features are increasingly more specific to the dataset on which the model was trained. The goal of fine-tuning is to adapt these specialized features to work with the new dataset, rather than overwrite the generic learning."
      ],
      "metadata": {
        "id": "5Ax7UhABJIzX"
      }
    },
    {
      "cell_type": "markdown",
      "source": [
        "**Steps for Fine Tuning**\n",
        "1. Select a Pre-trained Model: Choose a pre-trained model that aligns with your task and dataset.\n",
        "2. Understand Model Architecture: Study the architecture of the pre-trained model, including the number of layers, their functionalities, and the specific tasks they were trained on.\n",
        "3. Determine Fine-tuning Layers: Decide which layers of the pre-trained model to fine-tune. Typically, earlier layers capture low-level features, while later layers capture more high-level features. You may choose to fine-tune only the top layers or some of the entire model.\n",
        "4. Freeze Pre-trained Layers: Freeze the weights of the pre-trained layers that you do not want to fine-tune. This ensures that you prevent these layers from being updated during training.\n",
        "5. Add Task-specific Layers: Add new layers on top of the pre-trained model to adapt it to your specific task. These layers referred to as the “classifier,” will be responsible for making predictions relevant to your task.\n",
        "Configure Training Parameters: Set the hyperparameters for training, including the learning rate(Small learning rate), batch size, and number of epochs. These parameters may need to be adjusted based on the size of your dataset and the complexity of your task.\n",
        "6. Train the Model: Train the model on your dataset using a suitable optimization algorithm, such as stochastic gradient descent (SGD) or Adam. During training, the weights of the unfrozen layers will be updated to minimize the loss between the predicted outputs and the ground truth labels."
      ],
      "metadata": {
        "id": "afhpBY__h0Gz"
      }
    },
    {
      "cell_type": "markdown",
      "source": [
        "# Un-freeze the top layers of the model\n",
        "All you need to do is unfreeze the base_model and set the bottom layers to be un-trainable. Then, you should recompile the model (necessary for these changes to take effect), and resume training."
      ],
      "metadata": {
        "id": "dwLHHzIpJM-0"
      }
    },
    {
      "cell_type": "code",
      "source": [
        "base_model.trainable = True"
      ],
      "metadata": {
        "id": "KClSo8gfJX98"
      },
      "execution_count": null,
      "outputs": []
    },
    {
      "cell_type": "code",
      "source": [
        "# Let's take a look to see how many layers are in the base model\n",
        "print(\"Number of layers in the base model: \", len(base_model.layers))\n",
        "\n",
        "# Fine-tune from this layer onwards\n",
        "fine_tune_at = 100\n",
        "\n",
        "# Freeze all the layers before the `fine_tune_at` layer\n",
        "for layer in base_model.layers[:fine_tune_at]:\n",
        "  layer.trainable = False"
      ],
      "metadata": {
        "id": "8dAe5yAgJTgl"
      },
      "execution_count": null,
      "outputs": []
    },
    {
      "cell_type": "markdown",
      "source": [
        "# Compile the model\n",
        "As you are training a much larger model and want to readapt the pretrained weights, it is important to use a lower learning rate at this stage. Otherwise, your model could overfit very quickly."
      ],
      "metadata": {
        "id": "Mn75kNclJlXb"
      }
    },
    {
      "cell_type": "code",
      "source": [
        "model.compile(loss=tf.keras.losses.BinaryCrossentropy(),\n",
        "              optimizer = tf.keras.optimizers.RMSprop(learning_rate=base_learning_rate/10),\n",
        "              metrics=[tf.keras.metrics.BinaryAccuracy(threshold=0.5, name='accuracy')])"
      ],
      "metadata": {
        "id": "FC6kQre_Ji9C"
      },
      "execution_count": null,
      "outputs": []
    },
    {
      "cell_type": "code",
      "source": [
        "model.summary()"
      ],
      "metadata": {
        "id": "IKbhPc9jJpdK"
      },
      "execution_count": null,
      "outputs": []
    },
    {
      "cell_type": "code",
      "source": [
        "len(model.trainable_variables)"
      ],
      "metadata": {
        "id": "Ty5F6K_0Jvil"
      },
      "execution_count": null,
      "outputs": []
    },
    {
      "cell_type": "markdown",
      "source": [
        "# Continue training the model\n",
        "If you trained to convergence earlier, this step will improve your accuracy by a few percentage points."
      ],
      "metadata": {
        "id": "A-uMu2k7J8m8"
      }
    },
    {
      "cell_type": "code",
      "source": [
        "fine_tune_epochs = 10\n",
        "total_epochs =  initial_epochs + fine_tune_epochs\n",
        "\n",
        "history_fine = model.fit(train_dataset,\n",
        "                         epochs=total_epochs,\n",
        "                         initial_epoch=len(history.epoch),\n",
        "                         validation_data=validation_dataset)"
      ],
      "metadata": {
        "id": "FO8JphUxJ4AI"
      },
      "execution_count": null,
      "outputs": []
    },
    {
      "cell_type": "markdown",
      "source": [
        "Let's take a look at the learning curves of the training and validation accuracy/loss when fine-tuning the last few layers of the MobileNetV2 base model and training the classifier on top of it. The validation loss is much higher than the training loss, so you may get some overfitting.\n",
        "\n",
        "You may also get some overfitting as the new training set is relatively small and similar to the original MobileNetV2 datasets.\n",
        "\n",
        "After fine tuning the model nearly reaches 98% accuracy on the validation set."
      ],
      "metadata": {
        "id": "L-11i-FCKGA-"
      }
    },
    {
      "cell_type": "code",
      "source": [
        "acc += history_fine.history['accuracy']\n",
        "val_acc += history_fine.history['val_accuracy']\n",
        "\n",
        "loss += history_fine.history['loss']\n",
        "val_loss += history_fine.history['val_loss']"
      ],
      "metadata": {
        "id": "5OHDRuNNKBeQ"
      },
      "execution_count": null,
      "outputs": []
    },
    {
      "cell_type": "code",
      "source": [
        "plt.figure(figsize=(8, 8))\n",
        "plt.subplot(2, 1, 1)\n",
        "plt.plot(acc, label='Training Accuracy')\n",
        "plt.plot(val_acc, label='Validation Accuracy')\n",
        "plt.ylim([0.8, 1])\n",
        "plt.plot([initial_epochs-1,initial_epochs-1],\n",
        "          plt.ylim(), label='Start Fine Tuning')\n",
        "plt.legend(loc='lower right')\n",
        "plt.title('Training and Validation Accuracy')\n",
        "\n",
        "plt.subplot(2, 1, 2)\n",
        "plt.plot(loss, label='Training Loss')\n",
        "plt.plot(val_loss, label='Validation Loss')\n",
        "plt.ylim([0, 1.0])\n",
        "plt.plot([initial_epochs-1,initial_epochs-1],\n",
        "         plt.ylim(), label='Start Fine Tuning')\n",
        "plt.legend(loc='upper right')\n",
        "plt.title('Training and Validation Loss')\n",
        "plt.xlabel('epoch')\n",
        "plt.show()"
      ],
      "metadata": {
        "id": "zjd1UvV3KLI_"
      },
      "execution_count": null,
      "outputs": []
    },
    {
      "cell_type": "markdown",
      "source": [
        "# Evaluation and prediction\n",
        "Finally you can verify the performance of the model on new data using test set."
      ],
      "metadata": {
        "id": "nd2oASKvKOtC"
      }
    },
    {
      "cell_type": "code",
      "source": [
        "loss, accuracy = model.evaluate(test_dataset)\n",
        "print('Test accuracy :', accuracy)"
      ],
      "metadata": {
        "id": "Nhe3ryD5KV6o"
      },
      "execution_count": null,
      "outputs": []
    },
    {
      "cell_type": "markdown",
      "source": [
        "And now you are all set to use this model to predict if your pet is a cat or dog."
      ],
      "metadata": {
        "id": "r2wP6b35KfHL"
      }
    },
    {
      "cell_type": "code",
      "source": [
        "# Retrieve a batch of images from the test set\n",
        "image_batch, label_batch = test_dataset.as_numpy_iterator().next()\n",
        "predictions = model.predict_on_batch(image_batch).flatten()\n",
        "predictions = tf.where(predictions < 0.5, 0, 1)\n",
        "\n",
        "print('Predictions:\\n', predictions.numpy())\n",
        "print('Labels:\\n', label_batch)\n",
        "\n",
        "plt.figure(figsize=(10, 10))\n",
        "for i in range(9):\n",
        "  ax = plt.subplot(3, 3, i + 1)\n",
        "  plt.imshow(image_batch[i].astype(\"uint8\"))\n",
        "  plt.title(class_names[predictions[i]])\n",
        "  plt.axis(\"off\")"
      ],
      "metadata": {
        "id": "GS0tAUoQKiJ1"
      },
      "execution_count": null,
      "outputs": []
    },
    {
      "cell_type": "markdown",
      "source": [
        "# **Summary**\n",
        "***Using a pre-trained model for feature extraction:*** When working with a small dataset, it is a common practice to take advantage of features learned by a model trained on a larger dataset in the same domain. This is done by instantiating the pre-trained model and adding a fully-connected classifier on top. The pre-trained model is \"frozen\" and only the weights of the classifier get updated during training. In this case, the convolutional base extracted all the features associated with each image and you just trained a classifier that determines the image class given that set of extracted features.\n",
        "\n",
        "***Fine-tuning a pre-trained model:*** To further improve performance, one might want to repurpose the top-level layers of the pre-trained models to the new dataset via fine-tuning. In this case, you tuned your weights such that your model learned high-level features specific to the dataset. This technique is usually recommended when the training dataset is large and very similar to the original dataset that the pre-trained model was trained on."
      ],
      "metadata": {
        "id": "bopW_chfKhs2"
      }
    },
    {
      "cell_type": "code",
      "source": [],
      "metadata": {
        "id": "kpHXDoWKUoAu"
      },
      "execution_count": null,
      "outputs": []
    }
  ]
}