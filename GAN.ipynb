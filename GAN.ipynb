{
  "cells": [
    {
      "cell_type": "markdown",
      "metadata": {
        "id": "view-in-github",
        "colab_type": "text"
      },
      "source": [
        "<a href=\"https://colab.research.google.com/github/KRISHNENDU-LALAJI/MG_University/blob/GAN-and-VAE/GAN.ipynb\" target=\"_parent\"><img src=\"https://colab.research.google.com/assets/colab-badge.svg\" alt=\"Open In Colab\"/></a>"
      ]
    },
    {
      "cell_type": "markdown",
      "metadata": {
        "id": "rF2x3qooyBTI"
      },
      "source": [
        "# Generative Adversarial Network"
      ]
    },
    {
      "cell_type": "markdown",
      "metadata": {
        "id": "0TD5ZrvEMbhZ"
      },
      "source": [
        "![GAN.png](data:image/png;base64,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)"
      ]
    },
    {
      "cell_type": "markdown",
      "metadata": {
        "id": "2MbKJY38Puy9"
      },
      "source": [
        "GANs are used to  generate new data that is similar to a given dataset.\n",
        "\n",
        "The GAN consists of two neural networks, known as the generator and the discriminator, which are trained simultaneously through a competitive process. The generator network generates new data instances, while the discriminator network evaluates them for authenticity. The generator aims to produce data that is indistinguishable from real data, while the discriminator aims to correctly differentiate between real and generated data.\n",
        "\n",
        "As training progresses, both networks improve their abilities. The generator becomes better at creating realistic data, while the discriminator becomes better at distinguishing between real and generated data. This adversarial process drives the improvement of both networks until the generator is capable of producing highly realistic synthetic data.\n",
        "\n",
        "GANs have found applications in various fields, including image generation, text generation, video generation, and more. They have been used for tasks such as generating realistic images from sketches, enhancing image resolution, creating deepfake videos, generating realistic-sounding speech, and much more."
      ]
    },
    {
      "cell_type": "markdown",
      "metadata": {
        "id": "e1_Y75QXJS6h"
      },
      "source": [
        "### Setup"
      ]
    },
    {
      "cell_type": "code",
      "execution_count": null,
      "metadata": {
        "execution": {
          "iopub.execute_input": "2023-11-05T04:03:54.344963Z",
          "iopub.status.busy": "2023-11-05T04:03:54.344374Z",
          "iopub.status.idle": "2023-11-05T04:03:56.700892Z",
          "shell.execute_reply": "2023-11-05T04:03:56.700144Z"
        },
        "id": "WZKbyU2-AiY-"
      },
      "outputs": [],
      "source": [
        "import tensorflow as tf\n",
        "from tensorflow.keras import layers"
      ]
    },
    {
      "cell_type": "code",
      "execution_count": 2,
      "metadata": {
        "execution": {
          "iopub.execute_input": "2023-11-05T04:04:04.035450Z",
          "iopub.status.busy": "2023-11-05T04:04:04.035168Z",
          "iopub.status.idle": "2023-11-05T04:04:04.325919Z",
          "shell.execute_reply": "2023-11-05T04:04:04.325270Z"
        },
        "id": "YfIk2es3hJEd"
      },
      "outputs": [],
      "source": [
        "import glob\n",
        "import imageio\n",
        "import matplotlib.pyplot as plt\n",
        "import numpy as np\n",
        "import os\n",
        "import PIL\n",
        "import time\n",
        "from IPython import display"
      ]
    },
    {
      "cell_type": "markdown",
      "metadata": {
        "id": "iYn4MdZnKCey"
      },
      "source": [
        "### Load and prepare the dataset\n",
        "\n",
        "You will use the MNIST dataset to train the generator and the discriminator. The generator will generate handwritten digits resembling the MNIST data."
      ]
    },
    {
      "cell_type": "code",
      "execution_count": 3,
      "metadata": {
        "execution": {
          "iopub.execute_input": "2023-11-05T04:04:04.329665Z",
          "iopub.status.busy": "2023-11-05T04:04:04.329410Z",
          "iopub.status.idle": "2023-11-05T04:04:04.601475Z",
          "shell.execute_reply": "2023-11-05T04:04:04.600765Z"
        },
        "id": "a4fYMGxGhrna",
        "colab": {
          "base_uri": "https://localhost:8080/"
        },
        "outputId": "ed6a1aed-b083-49f4-b793-341719cc69ab"
      },
      "outputs": [
        {
          "output_type": "stream",
          "name": "stdout",
          "text": [
            "Downloading data from https://storage.googleapis.com/tensorflow/tf-keras-datasets/mnist.npz\n",
            "\u001b[1m11490434/11490434\u001b[0m \u001b[32m━━━━━━━━━━━━━━━━━━━━\u001b[0m\u001b[37m\u001b[0m \u001b[1m0s\u001b[0m 0us/step\n"
          ]
        }
      ],
      "source": [
        "(train_images, train_labels), (_, _) = tf.keras.datasets.mnist.load_data()"
      ]
    },
    {
      "cell_type": "code",
      "execution_count": 4,
      "metadata": {
        "execution": {
          "iopub.execute_input": "2023-11-05T04:04:04.605541Z",
          "iopub.status.busy": "2023-11-05T04:04:04.604930Z",
          "iopub.status.idle": "2023-11-05T04:04:04.754851Z",
          "shell.execute_reply": "2023-11-05T04:04:04.754033Z"
        },
        "id": "NFC2ghIdiZYE"
      },
      "outputs": [],
      "source": [
        "train_images = train_images.reshape(train_images.shape[0], 28, 28, 1).astype('float32')\n",
        "train_images = (train_images - 127.5) / 127.5  # Normalize the images to [-1, 1]"
      ]
    },
    {
      "cell_type": "code",
      "execution_count": 5,
      "metadata": {
        "execution": {
          "iopub.execute_input": "2023-11-05T04:04:04.759237Z",
          "iopub.status.busy": "2023-11-05T04:04:04.758575Z",
          "iopub.status.idle": "2023-11-05T04:04:04.761909Z",
          "shell.execute_reply": "2023-11-05T04:04:04.761322Z"
        },
        "id": "S4PIDhoDLbsZ"
      },
      "outputs": [],
      "source": [
        "BUFFER_SIZE = 60000\n",
        "BATCH_SIZE = 256"
      ]
    },
    {
      "cell_type": "code",
      "execution_count": 6,
      "metadata": {
        "execution": {
          "iopub.execute_input": "2023-11-05T04:04:04.765456Z",
          "iopub.status.busy": "2023-11-05T04:04:04.764806Z",
          "iopub.status.idle": "2023-11-05T04:04:07.406429Z",
          "shell.execute_reply": "2023-11-05T04:04:07.405714Z"
        },
        "id": "-yKCCQOoJ7cn"
      },
      "outputs": [],
      "source": [
        "# Batch and shuffle the data\n",
        "train_dataset = tf.data.Dataset.from_tensor_slices(train_images).shuffle(BUFFER_SIZE).batch(BATCH_SIZE)"
      ]
    },
    {
      "cell_type": "markdown",
      "metadata": {
        "id": "THY-sZMiQ4UV"
      },
      "source": [
        "## Create the models"
      ]
    },
    {
      "cell_type": "markdown",
      "metadata": {
        "id": "-tEyxE-GMC48"
      },
      "source": [
        "### The Generator\n",
        "\n",
        "The generator uses `tf.keras.layers.Conv2DTranspose` (upsampling) layers to produce an image from a seed (random noise). Start with a `Dense` layer that takes this seed as input, then upsample several times until you reach the desired image size of 28x28x1. Notice the `tf.keras.layers.LeakyReLU` activation for each layer, except the output layer which uses tanh."
      ]
    },
    {
      "cell_type": "code",
      "execution_count": 7,
      "metadata": {
        "execution": {
          "iopub.execute_input": "2023-11-05T04:04:07.410945Z",
          "iopub.status.busy": "2023-11-05T04:04:07.410699Z",
          "iopub.status.idle": "2023-11-05T04:04:07.417859Z",
          "shell.execute_reply": "2023-11-05T04:04:07.417247Z"
        },
        "id": "6bpTcDqoLWjY"
      },
      "outputs": [],
      "source": [
        "def make_generator_model():\n",
        "    model = tf.keras.Sequential()\n",
        "    model.add(layers.Dense(7*7*256, use_bias=False, input_shape=(100,)))\n",
        "    model.add(layers.BatchNormalization())\n",
        "    model.add(layers.LeakyReLU())\n",
        "\n",
        "    model.add(layers.Reshape((7, 7, 256)))\n",
        "    assert model.output_shape == (None, 7, 7, 256)  # Note: None is the batch size\n",
        "\n",
        "    model.add(layers.Conv2DTranspose(128, (5, 5), strides=(1, 1), padding='same', use_bias=False))\n",
        "    assert model.output_shape == (None, 7, 7, 128)\n",
        "    model.add(layers.BatchNormalization())\n",
        "    model.add(layers.LeakyReLU())\n",
        "\n",
        "    model.add(layers.Conv2DTranspose(64, (5, 5), strides=(2, 2), padding='same', use_bias=False))\n",
        "    assert model.output_shape == (None, 14, 14, 64)\n",
        "    model.add(layers.BatchNormalization())\n",
        "    model.add(layers.LeakyReLU())\n",
        "\n",
        "    model.add(layers.Conv2DTranspose(1, (5, 5), strides=(2, 2), padding='same', use_bias=False, activation='tanh'))\n",
        "    assert model.output_shape == (None, 28, 28, 1)\n",
        "\n",
        "    return model"
      ]
    },
    {
      "cell_type": "markdown",
      "metadata": {
        "id": "GyWgG09LCSJl"
      },
      "source": [
        "Use the untrained generator to create an image."
      ]
    },
    {
      "cell_type": "code",
      "execution_count": 8,
      "metadata": {
        "execution": {
          "iopub.execute_input": "2023-11-05T04:04:07.421054Z",
          "iopub.status.busy": "2023-11-05T04:04:07.420821Z",
          "iopub.status.idle": "2023-11-05T04:04:08.466963Z",
          "shell.execute_reply": "2023-11-05T04:04:08.466271Z"
        },
        "id": "gl7jcC7TdPTG",
        "colab": {
          "base_uri": "https://localhost:8080/",
          "height": 502
        },
        "outputId": "dd2ddc38-5038-47ff-fe90-f520a0cff7d7"
      },
      "outputs": [
        {
          "output_type": "stream",
          "name": "stderr",
          "text": [
            "/usr/local/lib/python3.11/dist-packages/keras/src/layers/core/dense.py:87: UserWarning: Do not pass an `input_shape`/`input_dim` argument to a layer. When using Sequential models, prefer using an `Input(shape)` object as the first layer in the model instead.\n",
            "  super().__init__(activity_regularizer=activity_regularizer, **kwargs)\n"
          ]
        },
        {
          "output_type": "execute_result",
          "data": {
            "text/plain": [
              "<matplotlib.image.AxesImage at 0x7fcac24bcc90>"
            ]
          },
          "metadata": {},
          "execution_count": 8
        },
        {
          "output_type": "display_data",
          "data": {
            "text/plain": [
              "<Figure size 640x480 with 1 Axes>"
            ],
            "image/png": "[encoded data removed]"
          },
          "metadata": {}
        }
      ],
      "source": [
        "generator = make_generator_model()\n",
        "\n",
        "noise = tf.random.normal([1, 100])\n",
        "generated_image = generator(noise, training=False)\n",
        "\n",
        "plt.imshow(generated_image[0, :, :, 0], cmap='gray')"
      ]
    },
    {
      "cell_type": "markdown",
      "metadata": {
        "id": "D0IKnaCtg6WE"
      },
      "source": [
        "### The Discriminator\n",
        "\n",
        "The discriminator is a CNN-based image classifier."
      ]
    },
    {
      "cell_type": "code",
      "execution_count": 9,
      "metadata": {
        "execution": {
          "iopub.execute_input": "2023-11-05T04:04:08.470699Z",
          "iopub.status.busy": "2023-11-05T04:04:08.470439Z",
          "iopub.status.idle": "2023-11-05T04:04:08.476042Z",
          "shell.execute_reply": "2023-11-05T04:04:08.475403Z"
        },
        "id": "dw2tPLmk2pEP"
      },
      "outputs": [],
      "source": [
        "def make_discriminator_model():\n",
        "    model = tf.keras.Sequential()\n",
        "    model.add(layers.Conv2D(64, (5, 5), strides=(2, 2), padding='same',\n",
        "                                     input_shape=[28, 28, 1]))\n",
        "    model.add(layers.LeakyReLU())\n",
        "    model.add(layers.Dropout(0.3))\n",
        "\n",
        "    model.add(layers.Conv2D(128, (5, 5), strides=(2, 2), padding='same'))\n",
        "    model.add(layers.LeakyReLU())\n",
        "    model.add(layers.Dropout(0.3))\n",
        "\n",
        "    model.add(layers.Flatten())\n",
        "    model.add(layers.Dense(1))\n",
        "\n",
        "    return model"
      ]
    },
    {
      "cell_type": "markdown",
      "metadata": {
        "id": "QhPneagzCaQv"
      },
      "source": [
        "Use the untrained discriminator to classify the generated images as real or fake. The model will be trained to output positive values for real images, and negative values for fake images."
      ]
    },
    {
      "cell_type": "code",
      "execution_count": 10,
      "metadata": {
        "execution": {
          "iopub.execute_input": "2023-11-05T04:04:08.479585Z",
          "iopub.status.busy": "2023-11-05T04:04:08.479037Z",
          "iopub.status.idle": "2023-11-05T04:04:08.715319Z",
          "shell.execute_reply": "2023-11-05T04:04:08.714580Z"
        },
        "id": "gDkA05NE6QMs",
        "colab": {
          "base_uri": "https://localhost:8080/"
        },
        "outputId": "455f7603-52ef-4c88-9b54-317879b4b533"
      },
      "outputs": [
        {
          "output_type": "stream",
          "name": "stderr",
          "text": [
            "/usr/local/lib/python3.11/dist-packages/keras/src/layers/convolutional/base_conv.py:107: UserWarning: Do not pass an `input_shape`/`input_dim` argument to a layer. When using Sequential models, prefer using an `Input(shape)` object as the first layer in the model instead.\n",
            "  super().__init__(activity_regularizer=activity_regularizer, **kwargs)\n"
          ]
        },
        {
          "output_type": "stream",
          "name": "stdout",
          "text": [
            "tf.Tensor([[-0.0004171]], shape=(1, 1), dtype=float32)\n"
          ]
        }
      ],
      "source": [
        "discriminator = make_discriminator_model()\n",
        "decision = discriminator(generated_image)\n",
        "print (decision)"
      ]
    },
    {
      "cell_type": "markdown",
      "metadata": {
        "id": "0FMYgY_mPfTi"
      },
      "source": [
        "## Define the loss and optimizers\n",
        "\n",
        "Define loss functions and optimizers for both models.\n"
      ]
    },
    {
      "cell_type": "code",
      "execution_count": 12,
      "metadata": {
        "execution": {
          "iopub.execute_input": "2023-11-05T04:04:08.719050Z",
          "iopub.status.busy": "2023-11-05T04:04:08.718798Z",
          "iopub.status.idle": "2023-11-05T04:04:08.722377Z",
          "shell.execute_reply": "2023-11-05T04:04:08.721746Z"
        },
        "id": "psQfmXxYKU3X"
      },
      "outputs": [],
      "source": [
        "# This method returns a helper function to compute cross entropy loss\n",
        "cross_entropy = tf.keras.losses.BinaryCrossentropy(from_logits=True)"
      ]
    },
    {
      "cell_type": "markdown",
      "metadata": {
        "id": "PKY_iPSPNWoj"
      },
      "source": [
        "### Discriminator loss\n",
        "\n",
        "This method quantifies how well the discriminator is able to distinguish real images from fakes. It compares the discriminator's predictions on real images to an array of 1s, and the discriminator's predictions on fake (generated) images to an array of 0s."
      ]
    },
    {
      "cell_type": "code",
      "execution_count": 13,
      "metadata": {
        "execution": {
          "iopub.execute_input": "2023-11-05T04:04:08.725928Z",
          "iopub.status.busy": "2023-11-05T04:04:08.725380Z",
          "iopub.status.idle": "2023-11-05T04:04:08.729047Z",
          "shell.execute_reply": "2023-11-05T04:04:08.728364Z"
        },
        "id": "wkMNfBWlT-PV"
      },
      "outputs": [],
      "source": [
        "def discriminator_loss(real_output, fake_output):\n",
        "    real_loss = cross_entropy(tf.ones_like(real_output), real_output)\n",
        "    fake_loss = cross_entropy(tf.zeros_like(fake_output), fake_output)\n",
        "    total_loss = real_loss + fake_loss\n",
        "    return total_loss"
      ]
    },
    {
      "cell_type": "markdown",
      "metadata": {
        "id": "Jd-3GCUEiKtv"
      },
      "source": [
        "### Generator loss\n",
        "The generator's loss quantifies how well it was able to trick the discriminator. Intuitively, if the generator is performing well, the discriminator will classify the fake images as real (or 1). Here, compare the discriminators decisions on the generated images to an array of 1s."
      ]
    },
    {
      "cell_type": "code",
      "execution_count": 14,
      "metadata": {
        "execution": {
          "iopub.execute_input": "2023-11-05T04:04:08.732101Z",
          "iopub.status.busy": "2023-11-05T04:04:08.731870Z",
          "iopub.status.idle": "2023-11-05T04:04:08.735050Z",
          "shell.execute_reply": "2023-11-05T04:04:08.734430Z"
        },
        "id": "90BIcCKcDMxz"
      },
      "outputs": [],
      "source": [
        "def generator_loss(fake_output):\n",
        "    return cross_entropy(tf.ones_like(fake_output), fake_output)"
      ]
    },
    {
      "cell_type": "markdown",
      "metadata": {
        "id": "MgIc7i0th_Iu"
      },
      "source": [
        "The discriminator and the generator optimizers are different since you will train two networks separately."
      ]
    },
    {
      "cell_type": "code",
      "execution_count": 15,
      "metadata": {
        "execution": {
          "iopub.execute_input": "2023-11-05T04:04:08.738449Z",
          "iopub.status.busy": "2023-11-05T04:04:08.737966Z",
          "iopub.status.idle": "2023-11-05T04:04:08.745671Z",
          "shell.execute_reply": "2023-11-05T04:04:08.745037Z"
        },
        "id": "iWCn_PVdEJZ7"
      },
      "outputs": [],
      "source": [
        "generator_optimizer = tf.keras.optimizers.Adam(1e-4)\n",
        "discriminator_optimizer = tf.keras.optimizers.Adam(1e-4)"
      ]
    },
    {
      "cell_type": "code",
      "source": [
        "# Checkpoints\n",
        "checkpoint_dir = './training_checkpoints'\n",
        "checkpoint_prefix = os.path.join(checkpoint_dir, \"ckpt\")\n",
        "checkpoint = tf.train.Checkpoint(generator_optimizer=generator_optimizer,\n",
        "                                 discriminator_optimizer=discriminator_optimizer,\n",
        "                                 generator=generator,\n",
        "                                 discriminator=discriminator)"
      ],
      "metadata": {
        "id": "VxafZjFiJRuY"
      },
      "execution_count": 23,
      "outputs": []
    },
    {
      "cell_type": "markdown",
      "metadata": {
        "id": "Rw1fkAczTQYh"
      },
      "source": [
        "## Define the training loop\n"
      ]
    },
    {
      "cell_type": "code",
      "execution_count": 18,
      "metadata": {
        "execution": {
          "iopub.execute_input": "2023-11-05T04:04:08.755943Z",
          "iopub.status.busy": "2023-11-05T04:04:08.755715Z",
          "iopub.status.idle": "2023-11-05T04:04:08.759664Z",
          "shell.execute_reply": "2023-11-05T04:04:08.759108Z"
        },
        "id": "NS2GWywBbAWo"
      },
      "outputs": [],
      "source": [
        "EPOCHS = 200\n",
        "noise_dim = 100\n",
        "num_examples_to_generate = 16"
      ]
    },
    {
      "cell_type": "markdown",
      "metadata": {
        "id": "jylSonrqSWfi"
      },
      "source": [
        "The training loop begins with generator receiving a random seed as input. That seed is used to produce an image. The discriminator is then used to classify real images (drawn from the training set) and fakes images (produced by the generator). The loss is calculated for each of these models, and the gradients are used to update the generator and discriminator."
      ]
    },
    {
      "cell_type": "markdown",
      "metadata": {
        "id": "J7AW9Zd2y2S9"
      },
      "source": [
        "### Compile the Function"
      ]
    },
    {
      "cell_type": "code",
      "execution_count": 19,
      "metadata": {
        "execution": {
          "iopub.execute_input": "2023-11-05T04:04:08.762822Z",
          "iopub.status.busy": "2023-11-05T04:04:08.762583Z",
          "iopub.status.idle": "2023-11-05T04:04:08.768408Z",
          "shell.execute_reply": "2023-11-05T04:04:08.767818Z"
        },
        "id": "3t5ibNo05jCB"
      },
      "outputs": [],
      "source": [
        "@tf.function\n",
        "def train_step(images):\n",
        "    noise = tf.random.normal([BATCH_SIZE, noise_dim])\n",
        "\n",
        "    with tf.GradientTape() as gen_tape, tf.GradientTape() as disc_tape:\n",
        "      generated_images = generator(noise, training=True)\n",
        "\n",
        "      real_output = discriminator(images, training=True)\n",
        "      fake_output = discriminator(generated_images, training=True)\n",
        "\n",
        "      gen_loss = generator_loss(fake_output)\n",
        "      disc_loss = discriminator_loss(real_output, fake_output)\n",
        "\n",
        "    gradients_of_generator = gen_tape.gradient(gen_loss, generator.trainable_variables)\n",
        "    gradients_of_discriminator = disc_tape.gradient(disc_loss, discriminator.trainable_variables)\n",
        "\n",
        "    generator_optimizer.apply_gradients(zip(gradients_of_generator, generator.trainable_variables))\n",
        "    discriminator_optimizer.apply_gradients(zip(gradients_of_discriminator, discriminator.trainable_variables))"
      ]
    },
    {
      "cell_type": "code",
      "execution_count": 20,
      "metadata": {
        "execution": {
          "iopub.execute_input": "2023-11-05T04:04:08.771329Z",
          "iopub.status.busy": "2023-11-05T04:04:08.771102Z",
          "iopub.status.idle": "2023-11-05T04:04:08.775929Z",
          "shell.execute_reply": "2023-11-05T04:04:08.775312Z"
        },
        "id": "2M7LmLtGEMQJ"
      },
      "outputs": [],
      "source": [
        "def train(dataset, epochs):\n",
        "  for epoch in range(epochs):\n",
        "    start = time.time()\n",
        "\n",
        "    for image_batch in dataset:\n",
        "      train_step(image_batch)\n",
        "\n",
        "    # Produce images for the GIF as you go\n",
        "    display.clear_output(wait=True)\n",
        "    generate_and_save_images(generator,\n",
        "                             epoch + 1,\n",
        "                             seed)\n",
        "\n",
        "    # Save the model every 15 epochs\n",
        "    if (epoch + 1) % 15 == 0:\n",
        "      checkpoint.save(file_prefix = checkpoint_prefix)\n",
        "\n",
        "    print ('Time for epoch {} is {} sec'.format(epoch + 1, time.time()-start))\n",
        "\n",
        "  # Generate after the final epoch\n",
        "  display.clear_output(wait=True)\n",
        "  generate_and_save_images(generator,\n",
        "                           epochs,\n",
        "                           seed)"
      ]
    },
    {
      "cell_type": "markdown",
      "metadata": {
        "id": "2aFF7Hk3XdeW"
      },
      "source": [
        "**Generate and save images**\n"
      ]
    },
    {
      "cell_type": "code",
      "execution_count": 21,
      "metadata": {
        "execution": {
          "iopub.execute_input": "2023-11-05T04:04:08.779118Z",
          "iopub.status.busy": "2023-11-05T04:04:08.778891Z",
          "iopub.status.idle": "2023-11-05T04:04:08.783447Z",
          "shell.execute_reply": "2023-11-05T04:04:08.782861Z"
        },
        "id": "RmdVsmvhPxyy"
      },
      "outputs": [],
      "source": [
        "def generate_and_save_images(model, epoch, test_input):\n",
        "  # Notice `training` is set to False.\n",
        "  # This is so all layers run in inference mode (batchnorm).\n",
        "  predictions = model(test_input, training=False)\n",
        "\n",
        "  fig = plt.figure(figsize=(4, 4))\n",
        "\n",
        "  for i in range(predictions.shape[0]):\n",
        "      plt.subplot(4, 4, i+1)\n",
        "      plt.imshow(predictions[i, :, :, 0] * 127.5 + 127.5, cmap='gray')\n",
        "      plt.axis('off')\n",
        "\n",
        "  plt.savefig('image_at_epoch_{:04d}.png'.format(epoch))\n",
        "  plt.show()"
      ]
    },
    {
      "cell_type": "markdown",
      "metadata": {
        "id": "dZrd4CdjR-Fp"
      },
      "source": [
        "## Train the model\n",
        "Call the `train()` method defined above to train the generator and discriminator simultaneously. Note, training GANs can be tricky. It's important that the generator and discriminator do not overpower each other (e.g., that they train at a similar rate).\n",
        "\n",
        "At the beginning of the training, the generated images look like random noise. As training progresses, the generated digits will look increasingly real. After about 200 epochs, they resemble MNIST digits. This may take about one minute / epoch with the default settings on Colab."
      ]
    },
    {
      "cell_type": "code",
      "execution_count": null,
      "metadata": {
        "execution": {
          "iopub.execute_input": "2023-11-05T04:04:08.786562Z",
          "iopub.status.busy": "2023-11-05T04:04:08.786345Z",
          "iopub.status.idle": "2023-11-05T04:13:37.940085Z",
          "shell.execute_reply": "2023-11-05T04:13:37.939176Z"
        },
        "id": "Ly3UN0SLLY2l",
        "colab": {
          "base_uri": "https://localhost:8080/",
          "height": 362
        },
        "outputId": "6f082543-8360-4fa8-fb26-a359518f469e"
      },
      "outputs": [
        {
          "data": {
            "image/png": "[encoded data removed]",
            "text/plain": [
              "<Figure size 400x400 with 16 Axes>"
            ]
          },
          "metadata": {},
          "output_type": "display_data"
        },
        {
          "metadata": {
            "tags": null
          },
          "name": "stdout",
          "output_type": "stream",
          "text": [
            "Time for epoch 188 is 11.752901315689087 sec\n"
          ]
        }
      ],
      "source": [
        "seed = tf.random.normal([num_examples_to_generate, noise_dim])\n",
        "train(train_dataset, EPOCHS)"
      ]
    }
  ],
  "metadata": {
    "accelerator": "GPU",
    "colab": {
      "toc_visible": true,
      "provenance": [],
      "include_colab_link": true
    },
    "kernelspec": {
      "display_name": "Python 3 (ipykernel)",
      "language": "python",
      "name": "python3"
    },
    "language_info": {
      "codemirror_mode": {
        "name": "ipython",
        "version": 3
      },
      "file_extension": ".py",
      "mimetype": "text/x-python",
      "name": "python",
      "nbconvert_exporter": "python",
      "pygments_lexer": "ipython3",
      "version": "3.10.0"
    }
  },
  "nbformat": 4,
  "nbformat_minor": 0
}